{
 "cells": [
  {
   "cell_type": "code",
   "execution_count": 7,
   "metadata": {},
   "outputs": [],
   "source": [
    "from os.path import join\n",
    "import pandas as pd\n",
    "import numpy as np\n",
    "import matplotlib.pyplot as plt\n",
    "import seaborn as sns\n",
    "from sklearn.cluster import AgglomerativeClustering\n",
    "from scipy.cluster.hierarchy import dendrogram\n",
    "\n",
    "sns.set()"
   ]
  },
  {
   "cell_type": "markdown",
   "metadata": {},
   "source": [
    "## Import preprocessed data"
   ]
  },
  {
   "cell_type": "code",
   "execution_count": 8,
   "metadata": {},
   "outputs": [],
   "source": [
    "df = pd.read_csv(join('..', 'data', 'tugas_preprocessed.csv'))"
   ]
  },
  {
   "cell_type": "code",
   "execution_count": 9,
   "metadata": {},
   "outputs": [
    {
     "data": {
      "text/html": [
       "<div>\n",
       "<style scoped>\n",
       "    .dataframe tbody tr th:only-of-type {\n",
       "        vertical-align: middle;\n",
       "    }\n",
       "\n",
       "    .dataframe tbody tr th {\n",
       "        vertical-align: top;\n",
       "    }\n",
       "\n",
       "    .dataframe thead th {\n",
       "        text-align: right;\n",
       "    }\n",
       "</style>\n",
       "<table border=\"1\" class=\"dataframe\">\n",
       "  <thead>\n",
       "    <tr style=\"text-align: right;\">\n",
       "      <th></th>\n",
       "      <th>income</th>\n",
       "      <th>frq</th>\n",
       "      <th>rcn</th>\n",
       "      <th>clothes</th>\n",
       "      <th>kitchen</th>\n",
       "      <th>small_appliances</th>\n",
       "      <th>toys</th>\n",
       "      <th>house_keeping</th>\n",
       "      <th>per_net_purchase</th>\n",
       "      <th>spent_online</th>\n",
       "      <th>...</th>\n",
       "      <th>x_status_Widow</th>\n",
       "      <th>x_gender_M</th>\n",
       "      <th>x_dependents_1.0</th>\n",
       "      <th>x_description_Kind of OK</th>\n",
       "      <th>x_description_Meh...</th>\n",
       "      <th>x_description_OK nice!</th>\n",
       "      <th>x_description_Take my money!!</th>\n",
       "      <th>PC0</th>\n",
       "      <th>PC1</th>\n",
       "      <th>PC2</th>\n",
       "    </tr>\n",
       "  </thead>\n",
       "  <tbody>\n",
       "    <tr>\n",
       "      <th>0</th>\n",
       "      <td>0.743162</td>\n",
       "      <td>1.191605</td>\n",
       "      <td>0.457819</td>\n",
       "      <td>-0.617023</td>\n",
       "      <td>-0.243065</td>\n",
       "      <td>1.216847</td>\n",
       "      <td>0.495837</td>\n",
       "      <td>-0.499274</td>\n",
       "      <td>-1.257560</td>\n",
       "      <td>0.522055</td>\n",
       "      <td>...</td>\n",
       "      <td>0.0</td>\n",
       "      <td>1.0</td>\n",
       "      <td>0.0</td>\n",
       "      <td>0.0</td>\n",
       "      <td>0.0</td>\n",
       "      <td>0.0</td>\n",
       "      <td>1.0</td>\n",
       "      <td>0.896356</td>\n",
       "      <td>1.937697</td>\n",
       "      <td>-1.120781</td>\n",
       "    </tr>\n",
       "    <tr>\n",
       "      <th>1</th>\n",
       "      <td>1.559488</td>\n",
       "      <td>1.100011</td>\n",
       "      <td>-1.535723</td>\n",
       "      <td>0.166160</td>\n",
       "      <td>-0.790228</td>\n",
       "      <td>0.740464</td>\n",
       "      <td>-0.374374</td>\n",
       "      <td>-0.631907</td>\n",
       "      <td>-1.798649</td>\n",
       "      <td>-0.237578</td>\n",
       "      <td>...</td>\n",
       "      <td>0.0</td>\n",
       "      <td>0.0</td>\n",
       "      <td>0.0</td>\n",
       "      <td>0.0</td>\n",
       "      <td>0.0</td>\n",
       "      <td>0.0</td>\n",
       "      <td>1.0</td>\n",
       "      <td>1.981092</td>\n",
       "      <td>1.421498</td>\n",
       "      <td>-0.785625</td>\n",
       "    </tr>\n",
       "    <tr>\n",
       "      <th>2</th>\n",
       "      <td>-1.548542</td>\n",
       "      <td>-0.823463</td>\n",
       "      <td>0.557496</td>\n",
       "      <td>-0.834573</td>\n",
       "      <td>1.672006</td>\n",
       "      <td>-0.371096</td>\n",
       "      <td>-0.809480</td>\n",
       "      <td>2.286023</td>\n",
       "      <td>0.906799</td>\n",
       "      <td>-0.904191</td>\n",
       "      <td>...</td>\n",
       "      <td>0.0</td>\n",
       "      <td>1.0</td>\n",
       "      <td>1.0</td>\n",
       "      <td>1.0</td>\n",
       "      <td>0.0</td>\n",
       "      <td>0.0</td>\n",
       "      <td>0.0</td>\n",
       "      <td>-2.813108</td>\n",
       "      <td>-0.381440</td>\n",
       "      <td>0.780867</td>\n",
       "    </tr>\n",
       "    <tr>\n",
       "      <th>3</th>\n",
       "      <td>0.845528</td>\n",
       "      <td>0.550447</td>\n",
       "      <td>-1.402820</td>\n",
       "      <td>0.383710</td>\n",
       "      <td>0.440889</td>\n",
       "      <td>-0.768082</td>\n",
       "      <td>-0.084304</td>\n",
       "      <td>-0.234007</td>\n",
       "      <td>-0.391816</td>\n",
       "      <td>0.785568</td>\n",
       "      <td>...</td>\n",
       "      <td>0.0</td>\n",
       "      <td>0.0</td>\n",
       "      <td>1.0</td>\n",
       "      <td>0.0</td>\n",
       "      <td>0.0</td>\n",
       "      <td>1.0</td>\n",
       "      <td>0.0</td>\n",
       "      <td>1.247013</td>\n",
       "      <td>0.514177</td>\n",
       "      <td>1.302203</td>\n",
       "    </tr>\n",
       "    <tr>\n",
       "      <th>4</th>\n",
       "      <td>0.782435</td>\n",
       "      <td>1.008417</td>\n",
       "      <td>-0.871209</td>\n",
       "      <td>0.340200</td>\n",
       "      <td>-0.243065</td>\n",
       "      <td>-0.053508</td>\n",
       "      <td>-0.374374</td>\n",
       "      <td>-0.366640</td>\n",
       "      <td>-0.445925</td>\n",
       "      <td>1.237135</td>\n",
       "      <td>...</td>\n",
       "      <td>0.0</td>\n",
       "      <td>0.0</td>\n",
       "      <td>1.0</td>\n",
       "      <td>0.0</td>\n",
       "      <td>0.0</td>\n",
       "      <td>0.0</td>\n",
       "      <td>1.0</td>\n",
       "      <td>1.781920</td>\n",
       "      <td>0.704805</td>\n",
       "      <td>0.443376</td>\n",
       "    </tr>\n",
       "  </tbody>\n",
       "</table>\n",
       "<p>5 rows × 27 columns</p>\n",
       "</div>"
      ],
      "text/plain": [
       "     income       frq       rcn   clothes   kitchen  small_appliances  \\\n",
       "0  0.743162  1.191605  0.457819 -0.617023 -0.243065          1.216847   \n",
       "1  1.559488  1.100011 -1.535723  0.166160 -0.790228          0.740464   \n",
       "2 -1.548542 -0.823463  0.557496 -0.834573  1.672006         -0.371096   \n",
       "3  0.845528  0.550447 -1.402820  0.383710  0.440889         -0.768082   \n",
       "4  0.782435  1.008417 -0.871209  0.340200 -0.243065         -0.053508   \n",
       "\n",
       "       toys  house_keeping  per_net_purchase  spent_online  ...  \\\n",
       "0  0.495837      -0.499274         -1.257560      0.522055  ...   \n",
       "1 -0.374374      -0.631907         -1.798649     -0.237578  ...   \n",
       "2 -0.809480       2.286023          0.906799     -0.904191  ...   \n",
       "3 -0.084304      -0.234007         -0.391816      0.785568  ...   \n",
       "4 -0.374374      -0.366640         -0.445925      1.237135  ...   \n",
       "\n",
       "   x_status_Widow  x_gender_M  x_dependents_1.0  x_description_Kind of OK  \\\n",
       "0             0.0         1.0               0.0                       0.0   \n",
       "1             0.0         0.0               0.0                       0.0   \n",
       "2             0.0         1.0               1.0                       1.0   \n",
       "3             0.0         0.0               1.0                       0.0   \n",
       "4             0.0         0.0               1.0                       0.0   \n",
       "\n",
       "   x_description_Meh...  x_description_OK nice!  \\\n",
       "0                   0.0                     0.0   \n",
       "1                   0.0                     0.0   \n",
       "2                   0.0                     0.0   \n",
       "3                   0.0                     1.0   \n",
       "4                   0.0                     0.0   \n",
       "\n",
       "   x_description_Take my money!!       PC0       PC1       PC2  \n",
       "0                            1.0  0.896356  1.937697 -1.120781  \n",
       "1                            1.0  1.981092  1.421498 -0.785625  \n",
       "2                            0.0 -2.813108 -0.381440  0.780867  \n",
       "3                            0.0  1.247013  0.514177  1.302203  \n",
       "4                            1.0  1.781920  0.704805  0.443376  \n",
       "\n",
       "[5 rows x 27 columns]"
      ]
     },
     "execution_count": 9,
     "metadata": {},
     "output_type": "execute_result"
    }
   ],
   "source": [
    "df.head()"
   ]
  },
  {
   "cell_type": "code",
   "execution_count": 10,
   "metadata": {},
   "outputs": [
    {
     "data": {
      "text/plain": [
       "Index(['income', 'frq', 'rcn', 'clothes', 'kitchen', 'small_appliances',\n",
       "       'toys', 'house_keeping', 'per_net_purchase', 'spent_online',\n",
       "       'x_education_2nd Cycle', 'x_education_Graduation', 'x_education_Master',\n",
       "       'x_education_PhD', 'x_status_Married', 'x_status_Single',\n",
       "       'x_status_Together', 'x_status_Widow', 'x_gender_M', 'x_dependents_1.0',\n",
       "       'x_description_Kind of OK', 'x_description_Meh...',\n",
       "       'x_description_OK nice!', 'x_description_Take my money!!', 'PC0', 'PC1',\n",
       "       'PC2'],\n",
       "      dtype='object')"
      ]
     },
     "execution_count": 10,
     "metadata": {},
     "output_type": "execute_result"
    }
   ],
   "source": [
    "df.columns"
   ]
  },
  {
   "cell_type": "code",
   "execution_count": 11,
   "metadata": {},
   "outputs": [
    {
     "ename": "AttributeError",
     "evalue": "'StringMethods' object has no attribute 'startwith'",
     "output_type": "error",
     "traceback": [
      "\u001b[0;31m---------------------------------------------------------------------------\u001b[0m",
      "\u001b[0;31mAttributeError\u001b[0m                            Traceback (most recent call last)",
      "Input \u001b[0;32mIn [11]\u001b[0m, in \u001b[0;36m<cell line: 1>\u001b[0;34m()\u001b[0m\n\u001b[0;32m----> 1\u001b[0m df\u001b[38;5;241m.\u001b[39mcolumns[\u001b[43mdf\u001b[49m\u001b[38;5;241;43m.\u001b[39;49m\u001b[43mcolumns\u001b[49m\u001b[38;5;241;43m.\u001b[39;49m\u001b[43mstr\u001b[49m\u001b[38;5;241;43m.\u001b[39;49m\u001b[43mstartwith\u001b[49m(\u001b[38;5;124m'\u001b[39m\u001b[38;5;124mx_\u001b[39m\u001b[38;5;124m'\u001b[39m)]\u001b[38;5;241m.\u001b[39mtolist()\n",
      "\u001b[0;31mAttributeError\u001b[0m: 'StringMethods' object has no attribute 'startwith'"
     ]
    }
   ],
   "source": [
    "df.columns[df.columns.str.startwith('x_')].tolist()"
   ]
  },
  {
   "cell_type": "code",
   "execution_count": 12,
   "metadata": {},
   "outputs": [
    {
     "ename": "SyntaxError",
     "evalue": "invalid syntax (1634675558.py, line 4)",
     "output_type": "error",
     "traceback": [
      "\u001b[0;36m  Input \u001b[0;32mIn [12]\u001b[0;36m\u001b[0m\n\u001b[0;31m    metric_features = # CODE HERE\u001b[0m\n\u001b[0m                      ^\u001b[0m\n\u001b[0;31mSyntaxError\u001b[0m\u001b[0;31m:\u001b[0m invalid syntax\n"
     ]
    }
   ],
   "source": [
    "# Splitting feature names into groups\n",
    "non_metric_features = df.columns[df.columns.str.startwith('x_')].tolist()\n",
    "pc_features = df.columns[df.columns.str.startwith('PC')].tolist()\n",
    "metric_features ="
   ]
  },
  {
   "cell_type": "markdown",
   "metadata": {},
   "source": [
    "## Hierarchical Clustering\n",
    "\n",
    "What is hierarchical clustering? How does it work? How does it relate to the distance matrix we discussed at the beggining of the course? ;)\n",
    "\n",
    "### Different types of linkage\n",
    "![](https://scikit-learn.org/stable/_images/sphx_glr_plot_linkage_comparison_001.png)\n",
    "\n",
    "### How are they computed?\n",
    "![](../figures/linkage_types.jpeg)\n",
    "\n",
    "**Ward linkage**: minimizes the sum of squared differences within all clusters. It is a variance-minimizing approach and in this sense is similar to the k-means objective function but tackled with an agglomerative hierarchical approach.\n",
    "\n",
    "### The distance matrix\n",
    "![](../figures/hc_distance_matrix.png)"
   ]
  },
  {
   "cell_type": "markdown",
   "metadata": {},
   "source": [
    "### Characteristics:\n",
    "- *bottom up approach*: each observation starts in its own cluster, and clusters are successively merged together\n",
    "- *greedy/local algorithm*: at each iteration tries to minimize the distance of cluster merging\n",
    "- *no realocation*: after an observation is assigned to a cluster, it can no longer change\n",
    "- *deterministic*: you always get the same answer when you run it\n",
    "- *scalability*: can become *very slow* for a large number of observations"
   ]
  },
  {
   "cell_type": "markdown",
   "metadata": {},
   "source": [
    "### How to apply Hierarchical Clustering?\n",
    "**Note: Which types of variables should be used for clustering?**"
   ]
  },
  {
   "cell_type": "code",
   "execution_count": 13,
   "metadata": {
    "scrolled": true
   },
   "outputs": [
    {
     "ename": "NameError",
     "evalue": "name 'metric_features' is not defined",
     "output_type": "error",
     "traceback": [
      "\u001b[0;31m---------------------------------------------------------------------------\u001b[0m",
      "\u001b[0;31mNameError\u001b[0m                                 Traceback (most recent call last)",
      "Input \u001b[0;32mIn [13]\u001b[0m, in \u001b[0;36m<cell line: 3>\u001b[0;34m()\u001b[0m\n\u001b[1;32m      1\u001b[0m \u001b[38;5;66;03m# Performing HC\u001b[39;00m\n\u001b[1;32m      2\u001b[0m hclust \u001b[38;5;241m=\u001b[39m AgglomerativeClustering(linkage\u001b[38;5;241m=\u001b[39m\u001b[38;5;124m'\u001b[39m\u001b[38;5;124mward\u001b[39m\u001b[38;5;124m'\u001b[39m, affinity\u001b[38;5;241m=\u001b[39m\u001b[38;5;124m'\u001b[39m\u001b[38;5;124meuclidean\u001b[39m\u001b[38;5;124m'\u001b[39m, n_clusters\u001b[38;5;241m=\u001b[39m\u001b[38;5;241m5\u001b[39m)\n\u001b[0;32m----> 3\u001b[0m hc_labels \u001b[38;5;241m=\u001b[39m hclust\u001b[38;5;241m.\u001b[39mfit_predict(df[\u001b[43mmetric_features\u001b[49m])\n\u001b[1;32m      4\u001b[0m hc_labels\n",
      "\u001b[0;31mNameError\u001b[0m: name 'metric_features' is not defined"
     ]
    }
   ],
   "source": [
    "# Performing HC\n",
    "hclust = AgglomerativeClustering(linkage='ward', affinity='euclidean', n_clusters=5)\n",
    "hc_labels = hclust.fit_predict(df[metric_features])\n",
    "hc_labels"
   ]
  },
  {
   "cell_type": "code",
   "execution_count": null,
   "metadata": {},
   "outputs": [],
   "source": [
    "# Characterizing the clusters\n",
    "df_concat = pd.concat(\n",
    "    # CODE HERE \n",
    "    axis=1\n",
    ")\n",
    "df_concat.groupby('labels').mean()"
   ]
  },
  {
   "cell_type": "markdown",
   "metadata": {},
   "source": [
    "### Defining the linkage method to choose:"
   ]
  },
  {
   "cell_type": "markdown",
   "metadata": {},
   "source": [
    "**We need to understand that:**\n",
    "$$SS_{t} = SS_{w} + SS_{b}$$\n",
    "\n",
    "---\n",
    "\n",
    "$$SS_{t} = \\sum\\limits_{i = 1}^n {{{({x_i} - \\overline x )}^2}}$$\n",
    "\n",
    "$$SS_{w} = \\sum\\limits_{k = 1}^K {\\sum\\limits_{i = 1}^{{n_k}} {{{({x_i} - {{\\overline x }_k})}^2}} }$$\n",
    "\n",
    "$$SS_{b} = \\sum\\limits_{k = 1}^K {{n_k}{{({{\\overline x }_k} - \\overline x )}^2}}$$\n",
    "\n",
    ", where $n$ is the total number of observations, $x_i$ is the vector of the $i^{th}$ observation, $\\overline x$ is the centroid of the data, $K$  is the number of clusters, $n_k$ is the number of observations in the $k^{th}$ cluster and $\\overline x_k$ is the centroid of the $k^{th}$ cluster."
   ]
  },
  {
   "cell_type": "code",
   "execution_count": null,
   "metadata": {},
   "outputs": [],
   "source": [
    "# Computing SST\n",
    "X = df[metric_features].values\n",
    "sst = np.sum(np.square(X - X.mean(axis=0)), axis=0)\n",
    "\n",
    "# Computing SSW\n",
    "ssw_iter = []\n",
    "for i in np.unique(hc_labels):\n",
    "    X_k = X[hc_labels == i]\n",
    "    ssw_iter.append(np.sum(np.square(X_k - X_k.mean(axis=0)), axis=0))\n",
    "ssw = np.sum(ssw_iter, axis=0)\n",
    "\n",
    "# Computing SSB\n",
    "ssb_iter = []\n",
    "for i in np.unique(hc_labels):\n",
    "    X_k = X[hc_labels == i]\n",
    "    ssb_iter.append(X_k.shape[0] * np.square(X_k.mean(axis=0) - X.mean(axis=0)))\n",
    "ssb = np.sum(ssb_iter, axis=0)\n",
    "\n",
    "# Verifying the formula\n",
    "np.round(sst) == np.round((ssw + ssb))"
   ]
  },
  {
   "cell_type": "code",
   "execution_count": null,
   "metadata": {},
   "outputs": [],
   "source": [
    "def get_r2_hc(df, link_method, max_nclus, min_nclus=1, dist=\"euclidean\"):\n",
    "    \"\"\"This function computes the R2 for a set of cluster solutions given by the application of a hierarchical method.\n",
    "    The R2 is a measure of the homogenity of a cluster solution. It is based on SSt = SSw + SSb and R2 = SSb/SSt. \n",
    "    \n",
    "    Parameters:\n",
    "    df (DataFrame): Dataset to apply clustering\n",
    "    link_method (str): either \"ward\", \"complete\", \"average\", \"single\"\n",
    "    max_nclus (int): maximum number of clusters to compare the methods\n",
    "    min_nclus (int): minimum number of clusters to compare the methods. Defaults to 1.\n",
    "    dist (str): distance to use to compute the clustering solution. Must be a valid distance. Defaults to \"euclidean\".\n",
    "    \n",
    "    Returns:\n",
    "    ndarray: R2 values for the range of cluster solutions\n",
    "    \"\"\"\n",
    "    def get_ss(df):\n",
    "        ss = # CODE HERE\n",
    "        return ss  # return sum of sum of squares of each df variable\n",
    "    \n",
    "    sst = get_ss(df)  # get total sum of squares\n",
    "    \n",
    "    r2 = []  # where we will store the R2 metrics for each cluster solution\n",
    "    \n",
    "    for i in range(min_nclus, max_nclus+1):  # iterate over desired ncluster range\n",
    "        cluster = AgglomerativeClustering(n_clusters=i, affinity=dist, linkage=link_method)\n",
    "        \n",
    "        #get cluster labels\n",
    "        hclabels = cluster.fit_predict(df) \n",
    "        \n",
    "        # concat df with labels\n",
    "        df_concat = pd.concat((df, pd.Series(hclabels, name='labels')), axis=1)  \n",
    "        \n",
    "        # compute ssw for each cluster labels\n",
    "        ssw_labels = df_concat.groupby(by='labels').apply(get_ss)  \n",
    "        \n",
    "        # Obtain SSB. Remember: SST = SSW + SSB\n",
    "        ssb =  # CODE HERE \n",
    "        \n",
    "        # append the R2 of the given cluster solution\n",
    "        r2.append(# CODE HERE)\n",
    "        \n",
    "    return np.array(r2)"
   ]
  },
  {
   "cell_type": "code",
   "execution_count": null,
   "metadata": {},
   "outputs": [],
   "source": [
    "# Prepare input\n",
    "hc_methods = [\"ward\", \"complete\", \"average\", \"single\"]\n",
    "\n",
    "# Call function defined above to obtain the R2 statistic for each hc_method\n",
    "max_nclus = 10\n",
    "r2_hc_methods = np.vstack(\n",
    "    [\n",
    "        # CODE HERE \n",
    "        for link in hc_methods\n",
    "    ]\n",
    ").T\n",
    "r2_hc_methods = pd.DataFrame(r2_hc_methods, index=range(1, max_nclus + 1), columns=hc_methods)\n",
    "\n",
    "sns.set()\n",
    "# Plot data\n",
    "fig = plt.figure(figsize=(11,5))\n",
    "sns.lineplot(data=r2_hc_methods, linewidth=2.5, markers=[\"o\"]*4)\n",
    "\n",
    "# Finalize the plot\n",
    "fig.suptitle(\"R2 plot for various hierarchical methods\", fontsize=21)\n",
    "plt.gca().invert_xaxis()  # invert x axis\n",
    "plt.legend(title=\"HC methods\", title_fontsize=11)\n",
    "plt.xticks(range(1, max_nclus + 1))\n",
    "plt.xlabel(\"Number of clusters\", fontsize=13)\n",
    "plt.ylabel(\"R2 metric\", fontsize=13)\n",
    "\n",
    "plt.show()"
   ]
  },
  {
   "cell_type": "markdown",
   "metadata": {},
   "source": [
    "### Defining the number of clusters:"
   ]
  },
  {
   "cell_type": "markdown",
   "metadata": {},
   "source": [
    "Where is the **first big jump** on the Dendrogram?"
   ]
  },
  {
   "cell_type": "code",
   "execution_count": null,
   "metadata": {},
   "outputs": [],
   "source": [
    "# setting distance_threshold=0 and n_clusters=None ensures we compute the full tree\n",
    "linkage = # CODE HERE\n",
    "distance = # CODE HERE\n",
    "\n",
    "# Define the clusterer\n",
    "hclust = # CODE HERE\n",
    "hclust.fit_predict(df[metric_features])"
   ]
  },
  {
   "cell_type": "code",
   "execution_count": null,
   "metadata": {},
   "outputs": [],
   "source": [
    "# Adapted from:\n",
    "# https://scikit-learn.org/stable/auto_examples/cluster/plot_agglomerative_dendrogram.html#sphx-glr-auto-examples-cluster-plot-agglomerative-dendrogram-py\n",
    "\n",
    "# create the counts of samples under each node (number of points being merged)\n",
    "counts = np.zeros(hclust.children_.shape[0])\n",
    "n_samples = len(hclust.labels_)\n",
    "\n",
    "# hclust.children_ contains the observation ids that are being merged together\n",
    "# At the i-th iteration, children[i][0] and children[i][1] are merged to form node n_samples + i\n",
    "for i, merge in enumerate(hclust.children_):\n",
    "    # track the number of observations in the current cluster being formed\n",
    "    current_count = 0\n",
    "    for child_idx in merge:\n",
    "        if child_idx < n_samples:\n",
    "            # If this is True, then we are merging an observation\n",
    "            current_count += 1  # leaf node\n",
    "        else:\n",
    "            # Otherwise, we are merging a previously formed cluster\n",
    "            current_count += counts[child_idx - n_samples]\n",
    "    counts[i] = current_count\n",
    "\n",
    "# the hclust.children_ is used to indicate the two points/clusters being merged (dendrogram's u-joins)\n",
    "# the hclust.distances_ indicates the distance between the two points/clusters (height of the u-joins)\n",
    "# the counts indicate the number of points being merged (dendrogram's x-axis)\n",
    "linkage_matrix = np.column_stack(\n",
    "    [hclust.children_, hclust.distances_, counts]\n",
    ").astype(float)\n",
    "\n",
    "# Plot the corresponding dendrogram\n",
    "sns.set()\n",
    "fig = plt.figure(figsize=(11,5))\n",
    "# The Dendrogram parameters need to be tuned\n",
    "y_threshold = 100\n",
    "dendrogram(linkage_matrix, truncate_mode='level', p=5, color_threshold=y_threshold, above_threshold_color='k')\n",
    "plt.hlines(y_threshold, 0, 1000, colors=\"r\", linestyles=\"dashed\")\n",
    "plt.title(f'Hierarchical Clustering - {linkage.title()}\\'s Dendrogram', fontsize=21)\n",
    "plt.xlabel('Number of points in node (or index of point if no parenthesis)')\n",
    "plt.ylabel(f'{distance.title()} Distance', fontsize=13)\n",
    "plt.show()"
   ]
  },
  {
   "cell_type": "markdown",
   "metadata": {},
   "source": [
    "### Final Hierarchical clustering solution"
   ]
  },
  {
   "cell_type": "code",
   "execution_count": null,
   "metadata": {},
   "outputs": [],
   "source": [
    "# final cluster solution\n",
    "linkage = # CODE HERE\n",
    "distance = # CODE HERE\n",
    "hclust = # CODE HERE\n",
    "hc_labels = hclust.fit_predict(df[metric_features])"
   ]
  },
  {
   "cell_type": "code",
   "execution_count": null,
   "metadata": {},
   "outputs": [],
   "source": [
    "# Characterizing the final clusters\n",
    "df_concat = pd.concat((df, pd.Series(hc_labels, name='labels')), axis=1)\n",
    "df_concat.groupby('labels').mean()"
   ]
  }
 ],
 "metadata": {
  "kernelspec": {
   "display_name": "Python 3 (ipykernel)",
   "language": "python",
   "name": "python3"
  },
  "language_info": {
   "codemirror_mode": {
    "name": "ipython",
    "version": 3
   },
   "file_extension": ".py",
   "mimetype": "text/x-python",
   "name": "python",
   "nbconvert_exporter": "python",
   "pygments_lexer": "ipython3",
   "version": "3.9.12"
  }
 },
 "nbformat": 4,
 "nbformat_minor": 4
}
